{
 "cells": [
  {
   "cell_type": "markdown",
   "id": "8ee43fa9",
   "metadata": {},
   "source": [
    "### mnistの学習データを画像化するプログラム"
   ]
  },
  {
   "cell_type": "code",
   "execution_count": 3,
   "id": "be0cc5ce-4e76-4328-a5c3-2f25f016dce2",
   "metadata": {},
   "outputs": [],
   "source": [
    "import tensorflow as tf\n",
    "\n",
    "import numpy as np\n",
    "from PIL import Image\n",
    "\n",
    "# 文字画像表示\n",
    "def ConvertToImg(img):\n",
    "    return Image.fromarray(np.uint8(img))\n",
    "\n",
    "# Kerasの関数でデータの読み込み。データをシャッフルして学習データと訓練データに分割\n",
    "mnist = tf.keras.datasets.mnist\n",
    "(x_train, y_train), (x_test, y_test) = mnist.load_data()\n",
    "\n",
    "\n",
    "\n",
    "# MNIST一文字の幅\n",
    "chr_w = 28\n",
    "# MNIST一文字の高さ\n",
    "chr_h = 28\n",
    "# 表示する文字数\n",
    "num = 128\n",
    "\n",
    "# MNISTの文字をPILで１枚の画像に描画する\n",
    "canvas = Image.new('RGB', (int(chr_w * num/2), int(chr_h * num/2)), (255, 255, 255))\n",
    "\n",
    "# MNISTの文字を読み込んで描画\n",
    "i = 0\n",
    "for y in range( int(num/2) ):\n",
    "    for x in range( int(num/2) ):\n",
    "        chrImg = ConvertToImg(x_train[i].reshape(chr_w, chr_h))\n",
    "        canvas.paste(chrImg, (chr_w*x, chr_h*y))\n",
    "        i = i + 1\n",
    "\n",
    "canvas.show()\n",
    "# 表示した画像をJPEGとして保存\n",
    "canvas.save('static/images/mnist.jpg', 'JPEG', quality=100, optimize=True)"
   ]
  },
  {
   "cell_type": "code",
   "execution_count": null,
   "id": "19df7dc9",
   "metadata": {},
   "outputs": [],
   "source": []
  }
 ],
 "metadata": {
  "kernelspec": {
   "display_name": "Python 3 (ipykernel)",
   "language": "python",
   "name": "python3"
  },
  "language_info": {
   "codemirror_mode": {
    "name": "ipython",
    "version": 3
   },
   "file_extension": ".py",
   "mimetype": "text/x-python",
   "name": "python",
   "nbconvert_exporter": "python",
   "pygments_lexer": "ipython3",
   "version": "3.8.10"
  }
 },
 "nbformat": 4,
 "nbformat_minor": 5
}
