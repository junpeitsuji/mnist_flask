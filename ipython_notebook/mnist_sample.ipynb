{
 "cells": [
  {
   "cell_type": "markdown",
   "id": "8106936a-501d-49a1-b07a-f05ea361c6f1",
   "metadata": {},
   "source": [
    "### Tensorflowテスト\n",
    "https://www.tensorflow.org/tutorials/quickstart/beginner?hl=ja"
   ]
  },
  {
   "cell_type": "code",
   "execution_count": 3,
   "id": "d48ff14f-dfbe-4a95-ba8b-1b5a1e4af155",
   "metadata": {},
   "outputs": [],
   "source": [
    "import tensorflow as tf"
   ]
  },
  {
   "cell_type": "code",
   "execution_count": 19,
   "id": "9c62402e-3f26-4373-a865-743f8d6f89f2",
   "metadata": {},
   "outputs": [
    {
     "name": "stdout",
     "output_type": "stream",
     "text": [
      "(60000, 28, 28)\n",
      "(28, 28)\n",
      "(1, 28, 28)\n",
      "<class 'numpy.ndarray'>\n",
      "5\n"
     ]
    }
   ],
   "source": [
    "mnist = tf.keras.datasets.mnist\n",
    "\n",
    "(x_train, y_train), (x_test, y_test) = mnist.load_data()\n",
    "x_train, x_test = x_train / 255.0, x_test / 255.0\n",
    "\n",
    "print(x_train.shape)  # 28x28サイズ 6000 データ\n",
    "print(x_train[0].shape)\n",
    "print(x_train[:1].shape)\n",
    "#print(x_train[:1])\n",
    "print(type(x_train))\n",
    "print(y_train[0])\n"
   ]
  },
  {
   "cell_type": "code",
   "execution_count": 5,
   "id": "f022c2cf-fe00-4854-a6cc-025ca048d378",
   "metadata": {},
   "outputs": [],
   "source": [
    "model = tf.keras.models.Sequential([\n",
    "    tf.keras.layers.Flatten(input_shape=(28, 28)),\n",
    "    tf.keras.layers.Dense(128, activation='relu'),\n",
    "    tf.keras.layers.Dropout(0.2),\n",
    "    tf.keras.layers.Dense(10)\n",
    "])"
   ]
  },
  {
   "cell_type": "code",
   "execution_count": 18,
   "id": "7657de8a-5528-4518-a3b2-87a99a625bfe",
   "metadata": {},
   "outputs": [
    {
     "data": {
      "text/plain": [
       "array([[ -7.4069963 ,  -8.097564  ,  -0.04473843,   8.9822445 ,\n",
       "        -23.52836   ,  13.653843  , -15.141355  ,  -7.0329967 ,\n",
       "         -8.032912  ,  -4.2502637 ]], dtype=float32)"
      ]
     },
     "execution_count": 18,
     "metadata": {},
     "output_type": "execute_result"
    }
   ],
   "source": [
    "predictions = model(x_train[:1]).numpy()\n",
    "predictions"
   ]
  },
  {
   "cell_type": "code",
   "execution_count": 7,
   "id": "f70f40d7-f2f1-4abc-8286-d07ad6062bb9",
   "metadata": {},
   "outputs": [
    {
     "data": {
      "text/plain": [
       "array([[0.14193171, 0.08177402, 0.09653236, 0.07007233, 0.0992381 ,\n",
       "        0.09862829, 0.11869501, 0.05416759, 0.1021638 , 0.13679683]],\n",
       "      dtype=float32)"
      ]
     },
     "execution_count": 7,
     "metadata": {},
     "output_type": "execute_result"
    }
   ],
   "source": [
    "tf.nn.softmax(predictions).numpy()"
   ]
  },
  {
   "cell_type": "code",
   "execution_count": 9,
   "id": "0c37863d-4320-4b1e-b2e8-6a58f449009f",
   "metadata": {},
   "outputs": [],
   "source": [
    "loss_fn = tf.keras.losses.SparseCategoricalCrossentropy(from_logits=True)"
   ]
  },
  {
   "cell_type": "code",
   "execution_count": 10,
   "id": "f4f54e70-93ea-425a-9111-562ed1532439",
   "metadata": {},
   "outputs": [
    {
     "data": {
      "text/plain": [
       "2.3163972"
      ]
     },
     "execution_count": 10,
     "metadata": {},
     "output_type": "execute_result"
    }
   ],
   "source": [
    "loss_fn(y_train[:1], predictions).numpy()"
   ]
  },
  {
   "cell_type": "code",
   "execution_count": 11,
   "id": "07013fef-677d-4dc5-9ed6-668c244412aa",
   "metadata": {},
   "outputs": [],
   "source": [
    "model.compile(optimizer='adam',\n",
    "              loss=loss_fn,\n",
    "              metrics=['accuracy'])"
   ]
  },
  {
   "cell_type": "code",
   "execution_count": 12,
   "id": "c40b8dd2-569f-4d76-a52c-bacd2a31186d",
   "metadata": {},
   "outputs": [
    {
     "name": "stdout",
     "output_type": "stream",
     "text": [
      "Epoch 1/5\n",
      "1875/1875 [==============================] - 10s 5ms/step - loss: 0.2979 - accuracy: 0.9135\n",
      "Epoch 2/5\n",
      "1875/1875 [==============================] - 8s 4ms/step - loss: 0.1462 - accuracy: 0.9555\n",
      "Epoch 3/5\n",
      "1875/1875 [==============================] - 7s 4ms/step - loss: 0.1088 - accuracy: 0.9673\n",
      "Epoch 4/5\n",
      "1875/1875 [==============================] - 8s 4ms/step - loss: 0.0913 - accuracy: 0.9717\n",
      "Epoch 5/5\n",
      "1875/1875 [==============================] - 8s 4ms/step - loss: 0.0757 - accuracy: 0.9769\n"
     ]
    },
    {
     "data": {
      "text/plain": [
       "<keras.callbacks.History at 0x1a5ed6862e0>"
      ]
     },
     "execution_count": 12,
     "metadata": {},
     "output_type": "execute_result"
    }
   ],
   "source": [
    "model.fit(x_train, y_train, epochs=5)"
   ]
  },
  {
   "cell_type": "code",
   "execution_count": 13,
   "id": "c3708350-ada0-4b97-a4c0-c75ac19e36ab",
   "metadata": {},
   "outputs": [
    {
     "name": "stdout",
     "output_type": "stream",
     "text": [
      "313/313 - 1s - loss: 0.0762 - accuracy: 0.9762 - 830ms/epoch - 3ms/step\n"
     ]
    },
    {
     "data": {
      "text/plain": [
       "[0.07618366181850433, 0.9761999845504761]"
      ]
     },
     "execution_count": 13,
     "metadata": {},
     "output_type": "execute_result"
    }
   ],
   "source": [
    "model.evaluate(x_test,  y_test, verbose=2)"
   ]
  },
  {
   "cell_type": "code",
   "execution_count": 14,
   "id": "620a1ca2-4ed4-4b29-bc29-68d38140ac1f",
   "metadata": {},
   "outputs": [],
   "source": [
    "probability_model = tf.keras.Sequential([\n",
    "  model,\n",
    "  tf.keras.layers.Softmax()\n",
    "])"
   ]
  },
  {
   "cell_type": "code",
   "execution_count": 15,
   "id": "ddeac60c-5cd5-4522-a90c-5fc66ea0dc27",
   "metadata": {},
   "outputs": [
    {
     "data": {
      "text/plain": [
       "<tf.Tensor: shape=(5, 10), dtype=float32, numpy=\n",
       "array([[1.4972516e-08, 1.6737960e-09, 4.1485227e-06, 3.9568878e-04,\n",
       "        5.7717189e-11, 1.9579234e-06, 2.8053750e-13, 9.9959582e-01,\n",
       "        3.8980366e-07, 2.0225382e-06],\n",
       "       [5.0118114e-08, 7.4971782e-04, 9.9887949e-01, 2.9117952e-04,\n",
       "        1.1193152e-15, 7.9458194e-05, 3.7981942e-09, 4.5899184e-13,\n",
       "        6.7638403e-08, 1.6391787e-13],\n",
       "       [1.3775905e-07, 9.9948728e-01, 2.6339119e-05, 4.5446700e-06,\n",
       "        1.6617119e-05, 1.2450325e-05, 1.6636487e-06, 2.8723653e-04,\n",
       "        1.6224237e-04, 1.4324190e-06],\n",
       "       [9.9974185e-01, 4.1516439e-09, 1.8166301e-04, 1.5911403e-06,\n",
       "        4.6510596e-08, 2.0641316e-06, 1.8474413e-05, 5.0870600e-05,\n",
       "        4.6958068e-08, 3.3885037e-06],\n",
       "       [1.4269838e-05, 3.1510108e-10, 2.6674941e-06, 4.9649600e-09,\n",
       "        9.9836904e-01, 7.4792410e-07, 2.0530376e-06, 3.4631074e-05,\n",
       "        2.3358771e-07, 1.5762992e-03]], dtype=float32)>"
      ]
     },
     "execution_count": 15,
     "metadata": {},
     "output_type": "execute_result"
    }
   ],
   "source": [
    "probability_model(x_test[:5])"
   ]
  },
  {
   "cell_type": "code",
   "execution_count": null,
   "id": "2c297b76-0974-472c-8c55-dd59ae45dde1",
   "metadata": {},
   "outputs": [],
   "source": []
  },
  {
   "cell_type": "code",
   "execution_count": null,
   "id": "9ade2f35-4b01-47c8-a04c-cb8c4c3622a0",
   "metadata": {},
   "outputs": [],
   "source": []
  }
 ],
 "metadata": {
  "kernelspec": {
   "display_name": "Python 3 (ipykernel)",
   "language": "python",
   "name": "python3"
  },
  "language_info": {
   "codemirror_mode": {
    "name": "ipython",
    "version": 3
   },
   "file_extension": ".py",
   "mimetype": "text/x-python",
   "name": "python",
   "nbconvert_exporter": "python",
   "pygments_lexer": "ipython3",
   "version": "3.8.10"
  }
 },
 "nbformat": 4,
 "nbformat_minor": 5
}
